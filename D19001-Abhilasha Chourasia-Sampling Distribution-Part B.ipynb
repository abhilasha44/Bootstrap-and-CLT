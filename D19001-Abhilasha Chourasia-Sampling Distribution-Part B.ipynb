{
 "cells": [
  {
   "cell_type": "markdown",
   "metadata": {},
   "source": [
    "## Sampling Distribution Part-B"
   ]
  },
  {
   "cell_type": "markdown",
   "metadata": {},
   "source": [
    "### D19001-Abhilasha Chourasia-Confidence Interval"
   ]
  },
  {
   "cell_type": "markdown",
   "metadata": {},
   "source": [
    "##### Confidence Interval approach reports an interval (a,b) which can capture the population parameter with some confidence"
   ]
  },
  {
   "cell_type": "markdown",
   "metadata": {},
   "source": [
    "##### Bootstrap to find the confidence interval estimate of the population parameter .\n",
    "##### Use Monthly Income column from the dataset attrition.csv"
   ]
  },
  {
   "cell_type": "code",
   "execution_count": 1,
   "metadata": {},
   "outputs": [],
   "source": [
    "#packages for Bootstrapping\n",
    "import numpy as np\n",
    "import pandas as pd\n",
    "import matplotlib.pyplot as plt\n",
    "import math\n",
    "import os\n",
    "import seaborn as sns\n",
    "import statsmodels.api as stm\n",
    "\n",
    "#Setting the working directory\n",
    "os.chdir(\"C:\\\\Users\\\\abhi3\\\\Downloads\")\n",
    "\n",
    "#Reading the data\n",
    "attr = pd.read_csv(\"attrition.csv\")"
   ]
  },
  {
   "cell_type": "markdown",
   "metadata": {},
   "source": [
    "##### Q1.1.Consider entire variable as a population and calculate population mean"
   ]
  },
  {
   "cell_type": "code",
   "execution_count": 2,
   "metadata": {},
   "outputs": [
    {
     "name": "stdout",
     "output_type": "stream",
     "text": [
      "Mean of the population (MonthlyIncome):  6502.931292517007\n"
     ]
    }
   ],
   "source": [
    "#reading the monthly income attribute from attrition.csv and calculating the mean for it\n",
    "m_income=attr.MonthlyIncome\n",
    "print('Mean of the population (MonthlyIncome): ',np.mean(m_income))"
   ]
  },
  {
   "cell_type": "markdown",
   "metadata": {},
   "source": [
    "##### Q1.2.Select sample 's' here (Xsam) of the size 200 from the population and calculate 95% of Confidence Interval estimate of the population mean.  "
   ]
  },
  {
   "cell_type": "code",
   "execution_count": 3,
   "metadata": {},
   "outputs": [],
   "source": [
    "#sample from population of size 200 without replacement\n",
    "Xsam=np.random.choice(m_income,200,replace=False)"
   ]
  },
  {
   "cell_type": "code",
   "execution_count": 4,
   "metadata": {},
   "outputs": [
    {
     "name": "stdout",
     "output_type": "stream",
     "text": [
      "The Confidence Interval for the sample: 6127.031820104587 , 7462.588179895414\n",
      "The mean for the Sample: 6794.81\n"
     ]
    }
   ],
   "source": [
    "#Calculating the value of intervals a,b\n",
    "a=(np.mean(Xsam)-((1.96)*np.std(Xsam)/np.sqrt(len(Xsam))))  #z-score of 95%=1.96\n",
    "b=(np.mean(Xsam)+((1.96)*np.std(Xsam)/np.sqrt(len(Xsam))))\n",
    "print('The Confidence Interval for the sample:',a,',',b)\n",
    "print('The mean for the Sample:',np.mean(Xsam))"
   ]
  },
  {
   "cell_type": "markdown",
   "metadata": {},
   "source": [
    "*Observation:* \n",
    "\n",
    "*i.Here 95% CI means we would like to create an interval (a,b) which will have the center sample mean such that this interval will be able to capture the population mean with probability 0.95*.\n",
    "\n",
    "*ii.From above we see that with 95% CI(Confidence Interval,corresponding z score = 1.96), the mean score lies in the above interval. The value at 'a' is 2.5th percentile and value at 'b' is 97.5th percentile of the distribution of sample.*\n",
    "\n",
    "*iii.Also if we evaluate, this interval captures the population mean as well i.e 6502.931292517007*"
   ]
  },
  {
   "cell_type": "markdown",
   "metadata": {},
   "source": [
    "##### Q1.3.Repeat above 1000 times and check how many of those Confidence Interval captures the true population mean"
   ]
  },
  {
   "cell_type": "code",
   "execution_count": 6,
   "metadata": {},
   "outputs": [],
   "source": [
    "#Below function creates 1000 such intervals on the sample and evaluates how many of these intervals \n",
    "#are capturing the sample mean with 95% CI.\n",
    "def bootstrap_CI():\n",
    "    true_count=0\n",
    "    false_count=0\n",
    "    for i in range(0,1000):\n",
    "        D= np.random.choice(Xsam,200,replace=True)\n",
    "        Xmean=int(np.mean(Xsam))\n",
    "        \n",
    "        a=int(np.mean(D)-(1.96*(np.std(D)/np.sqrt(200))))  #value of a i.e 2.5th percentile\n",
    "        b=int(np.mean(D)+(1.96*(np.std(D)/np.sqrt(200))))  #value of b i.e 97.5th percentile\n",
    "    \n",
    "        \n",
    "        if Xmean in range(a,b):                            #checks wheather the interval captures the mean\n",
    "            true_count+=1\n",
    "        else:\n",
    "            false_count+=1\n",
    "        \n",
    "    print('Number of intervals which are able to capture the population parameter: ',true_count)   \n",
    "    print('Number of intervals which are not able to capture the population parameter: ',false_count)"
   ]
  },
  {
   "cell_type": "code",
   "execution_count": 7,
   "metadata": {},
   "outputs": [
    {
     "name": "stdout",
     "output_type": "stream",
     "text": [
      "Number of intervals which are able to capture the population parameter:  944\n",
      "Number of intervals which are not able to capture the population parameter:  56\n"
     ]
    }
   ],
   "source": [
    "bootstrap_CI()"
   ]
  },
  {
   "cell_type": "markdown",
   "metadata": {},
   "source": [
    "*Observation:*\n",
    "\n",
    "*i. We can see that with 95% Confidence Interval when we create 1000 such intervals, around 950 intervals are able to capture the sample mean such that these interval are able to capture population mean with probability 0.95.* "
   ]
  },
  {
   "cell_type": "markdown",
   "metadata": {},
   "source": [
    "### Wide vs Narrow Confidence Interval"
   ]
  },
  {
   "cell_type": "markdown",
   "metadata": {},
   "source": [
    "##### Q2.Collect a sample 's' of size 200 from the population and calculate:\n",
    "##### a)Confidence Interval=90%\n",
    "##### b)Confidence Interval=99%"
   ]
  },
  {
   "cell_type": "code",
   "execution_count": 9,
   "metadata": {},
   "outputs": [
    {
     "name": "stdout",
     "output_type": "stream",
     "text": [
      "For CI 90% 6236.0568290671035 , 7353.563170932897\n",
      "Difference of the range 1117.5063418657937\n",
      "For CI 99% 5917.499381004751 , 7672.12061899525\n",
      "Difference of the range 1754.6212379904991\n"
     ]
    }
   ],
   "source": [
    "#CI-90%, z-score for 90% CI is 1.64\n",
    "a=(np.mean(Xsam)-((1.64)*np.std(Xsam)/np.sqrt(len(Xsam))))\n",
    "b=(np.mean(Xsam)+((1.64)*np.std(Xsam)/np.sqrt(len(Xsam))))\n",
    "print('For CI 90%',a,',',b) \n",
    "print('Difference of the range',(b-a))\n",
    "\n",
    "#CI-99%, z-score for 99% CI is 2.575\n",
    "a=(np.mean(Xsam)-((2.575)*np.std(Xsam)/np.sqrt(len(Xsam))))\n",
    "b=(np.mean(Xsam)+((2.575)*np.std(Xsam)/np.sqrt(len(Xsam))))\n",
    "print('For CI 99%',a,',',b)\n",
    "print('Difference of the range',(b-a))  #curve wider"
   ]
  },
  {
   "cell_type": "markdown",
   "metadata": {},
   "source": [
    "*Observation:*\n",
    "\n",
    "*i.From above we can see that for 90% CI(zscore=1.64), the interval is narrower than that of with 99% CI(zscore=2.575) i.e interval with 99% CI is wider.(Clearly visible when difference of the interval range is taken)*\n",
    "\n",
    "*ii.As the CI increses, the interval size increases i.e the interval is wider. The precision is less with high CI.As the CI increases more the intervals will represent the full sample range, hence the it is wider*"
   ]
  },
  {
   "cell_type": "markdown",
   "metadata": {},
   "source": [
    "##### Q3.Collet 2 sample from the population S1 of size 200 and S2 of size 400 using both the samples. Calculate a 90% CI estimate of population mean, which one is narrower"
   ]
  },
  {
   "cell_type": "code",
   "execution_count": 10,
   "metadata": {},
   "outputs": [],
   "source": [
    "#sample from population of size 200 without replacement\n",
    "S1=np.random.choice(m_income,200,replace=False)  #S1 of size 200\n",
    "#sample from population of size 200 without replacement\n",
    "S2=np.random.choice(m_income,400,replace=False)  #S2 of size 400"
   ]
  },
  {
   "cell_type": "code",
   "execution_count": 11,
   "metadata": {},
   "outputs": [
    {
     "name": "stdout",
     "output_type": "stream",
     "text": [
      "For CI 90% 6024.2121428809705 , 7066.96785711903\n",
      "Difference 1042.7557142380592\n",
      "For CI 90% 6056.047454215063 , 6815.047545784936\n",
      "Difference 759.0000915698729\n"
     ]
    }
   ],
   "source": [
    "#CI-90%, SIZE=200, zscore for 90% is 1.64\n",
    "a1=(np.mean(S1)-((1.64)*np.std(S1)/np.sqrt(len(S1))))\n",
    "b1=(np.mean(S1)+((1.64)*np.std(S1)/np.sqrt(len(S1))))\n",
    "\n",
    "print('For CI 90%',a1,',',b1)\n",
    "print('Difference',(b1-a1))\n",
    "\n",
    "#CI-90%, SIZE=400\n",
    "a2=(np.mean(S2)-((1.64)*np.std(S2)/np.sqrt(len(S2))))\n",
    "b2=(np.mean(S2)+((1.64)*np.std(S2)/np.sqrt(len(S2))))\n",
    "\n",
    "print('For CI 90%',a2,',',b2)\n",
    "print('Difference',(b2-a2))\n",
    "  #curve wider"
   ]
  },
  {
   "cell_type": "markdown",
   "metadata": {},
   "source": [
    "*Observation:*\n",
    "    \n",
    "*i.From above we can see the interval of sample with more size(400) is narrower than the other(200)(clearly seen when difference of the interval is taken).*\n",
    "\n",
    "*ii.Increasing the sample size decreases the width of CI, as it decreases the standard error.*\n"
   ]
  }
 ],
 "metadata": {
  "kernelspec": {
   "display_name": "Python 3",
   "language": "python",
   "name": "python3"
  },
  "language_info": {
   "codemirror_mode": {
    "name": "ipython",
    "version": 3
   },
   "file_extension": ".py",
   "mimetype": "text/x-python",
   "name": "python",
   "nbconvert_exporter": "python",
   "pygments_lexer": "ipython3",
   "version": "3.7.3"
  }
 },
 "nbformat": 4,
 "nbformat_minor": 2
}
